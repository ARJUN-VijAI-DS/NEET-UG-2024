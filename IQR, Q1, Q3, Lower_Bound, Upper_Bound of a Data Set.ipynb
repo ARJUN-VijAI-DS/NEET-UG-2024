{
 "cells": [
  {
   "cell_type": "code",
   "execution_count": 1,
   "id": "f33b3e74",
   "metadata": {},
   "outputs": [],
   "source": [
    "import pandas as pd\n",
    "\n",
    "# Sample data set\n",
    "data = [2, 4, 5, 7, 8, 9, 10, 12, 14, 15]\n",
    "\n",
    "# Convert the data into a pandas DataFrame\n",
    "df = pd.DataFrame(data, columns=['Data'])\n",
    "\n",
    "# Calculate Q1 (25th percentile) and Q3 (75th percentile)\n",
    "Q1 = df['Data'].quantile(0.25)\n",
    "Q3 = df['Data'].quantile(0.75)\n",
    "\n",
    "# Calculate the Interquartile Range (IQR)\n",
    "IQR = Q3 - Q1"
   ]
  },
  {
   "cell_type": "code",
   "execution_count": 2,
   "id": "4f8ef30d",
   "metadata": {},
   "outputs": [
    {
     "data": {
      "text/plain": [
       "(6.0, 5.5, 11.5)"
      ]
     },
     "execution_count": 2,
     "metadata": {},
     "output_type": "execute_result"
    }
   ],
   "source": [
    "IQR, Q1, Q3"
   ]
  },
  {
   "cell_type": "code",
   "execution_count": 3,
   "id": "ff98fb28",
   "metadata": {},
   "outputs": [
    {
     "name": "stdout",
     "output_type": "stream",
     "text": [
      "              Statistic  Value\n",
      "0  Q1 (25th percentile)    5.5\n",
      "1  Q3 (75th percentile)   11.5\n",
      "2                   IQR    6.0\n"
     ]
    }
   ],
   "source": [
    "import pandas as pd\n",
    "\n",
    "# Sample data set\n",
    "data = [2, 4, 5, 7, 8, 9, 10, 12, 14, 15]\n",
    "\n",
    "# Convert the data into a pandas DataFrame\n",
    "df = pd.DataFrame(data, columns=['Data'])\n",
    "\n",
    "# Calculate Q1 (25th percentile) and Q3 (75th percentile)\n",
    "Q1 = df['Data'].quantile(0.25)\n",
    "Q3 = df['Data'].quantile(0.75)\n",
    "\n",
    "# Calculate the Interquartile Range (IQR)\n",
    "IQR = Q3 - Q1\n",
    "\n",
    "# Create a DataFrame to display the results in a table format\n",
    "results = pd.DataFrame({\n",
    "    'Statistic': ['Q1 (25th percentile)', 'Q3 (75th percentile)', 'IQR'],\n",
    "    'Value': [Q1, Q3, IQR]\n",
    "})\n",
    "\n",
    "# Print the table\n",
    "print(results)\n"
   ]
  },
  {
   "cell_type": "code",
   "execution_count": 4,
   "id": "6f1663cd",
   "metadata": {},
   "outputs": [
    {
     "name": "stdout",
     "output_type": "stream",
     "text": [
      "              Statistic  Value\n",
      "0  Q1 (25th percentile)   4.75\n",
      "1  Q3 (75th percentile)  12.50\n",
      "2                   IQR   7.75\n"
     ]
    }
   ],
   "source": [
    "import pandas as pd\n",
    "\n",
    "# Sample data set with categorical and numerical data\n",
    "data = {\n",
    "    'Category': ['A', 'B', 'A', 'B', 'C', 'C', 'A', 'B', 'C', 'A'],\n",
    "    'Values': [2, 4, 5, 7, 8, 9, 10, 12, 14, 15]\n",
    "}\n",
    "\n",
    "# Convert the data into a pandas DataFrame\n",
    "df = pd.DataFrame(data)\n",
    "\n",
    "# Separate numerical data\n",
    "numerical_data = df['Values'].tolist()\n",
    "\n",
    "# Sort the numerical data\n",
    "numerical_data.sort()\n",
    "\n",
    "# Calculate Q1 (25th percentile)\n",
    "n = len(numerical_data)\n",
    "Q1_index = (n + 1) // 4\n",
    "if (n + 1) % 4 == 0:\n",
    "    Q1 = numerical_data[Q1_index - 1]\n",
    "else:\n",
    "    lower = numerical_data[Q1_index - 1]\n",
    "    upper = numerical_data[Q1_index]\n",
    "    Q1 = lower + (upper - lower) * (0.25 * (n + 1) % 1)\n",
    "\n",
    "# Calculate Q3 (75th percentile)\n",
    "Q3_index = 3 * (n + 1) // 4\n",
    "if 3 * (n + 1) % 4 == 0:\n",
    "    Q3 = numerical_data[Q3_index - 1]\n",
    "else:\n",
    "    lower = numerical_data[Q3_index - 1]\n",
    "    upper = numerical_data[Q3_index]\n",
    "    Q3 = lower + (upper - lower) * (0.75 * (n + 1) % 1)\n",
    "\n",
    "# Calculate the Interquartile Range (IQR)\n",
    "IQR = Q3 - Q1\n",
    "\n",
    "# Create a DataFrame to display the results in a table format\n",
    "results = pd.DataFrame({\n",
    "    'Statistic': ['Q1 (25th percentile)', 'Q3 (75th percentile)', 'IQR'],\n",
    "    'Value': [Q1, Q3, IQR]\n",
    "})\n",
    "\n",
    "# Print the table\n",
    "print(results)\n"
   ]
  },
  {
   "cell_type": "code",
   "execution_count": 5,
   "id": "6e79a4b5",
   "metadata": {},
   "outputs": [
    {
     "name": "stdout",
     "output_type": "stream",
     "text": [
      "                            Column  Q1 (25th percentile)  \\\n",
      "0                             Year                2024.0   \n",
      "1                  Number of Cases                   0.0   \n",
      "2                    Average Marks                  79.5   \n",
      "3                     Topper Marks                  98.5   \n",
      "4                Number of Toppers                   6.0   \n",
      "5  Number of Successful Candidates                 187.5   \n",
      "6         Number of Perfect Scores                   1.5   \n",
      "\n",
      "   Q3 (75th percentile)   IQR  \n",
      "0                2024.0   0.0  \n",
      "1                  11.0  11.0  \n",
      "2                  86.5   7.0  \n",
      "3                 100.0   1.5  \n",
      "4                  11.5   5.5  \n",
      "5                 205.0  17.5  \n",
      "6                   5.5   4.0  \n"
     ]
    },
    {
     "name": "stderr",
     "output_type": "stream",
     "text": [
      "C:\\Users\\user\\AppData\\Local\\Temp\\ipykernel_7268\\1532759050.py:54: FutureWarning: The frame.append method is deprecated and will be removed from pandas in a future version. Use pandas.concat instead.\n",
      "  results = results.append({\n",
      "C:\\Users\\user\\AppData\\Local\\Temp\\ipykernel_7268\\1532759050.py:54: FutureWarning: The frame.append method is deprecated and will be removed from pandas in a future version. Use pandas.concat instead.\n",
      "  results = results.append({\n",
      "C:\\Users\\user\\AppData\\Local\\Temp\\ipykernel_7268\\1532759050.py:54: FutureWarning: The frame.append method is deprecated and will be removed from pandas in a future version. Use pandas.concat instead.\n",
      "  results = results.append({\n",
      "C:\\Users\\user\\AppData\\Local\\Temp\\ipykernel_7268\\1532759050.py:54: FutureWarning: The frame.append method is deprecated and will be removed from pandas in a future version. Use pandas.concat instead.\n",
      "  results = results.append({\n",
      "C:\\Users\\user\\AppData\\Local\\Temp\\ipykernel_7268\\1532759050.py:54: FutureWarning: The frame.append method is deprecated and will be removed from pandas in a future version. Use pandas.concat instead.\n",
      "  results = results.append({\n",
      "C:\\Users\\user\\AppData\\Local\\Temp\\ipykernel_7268\\1532759050.py:54: FutureWarning: The frame.append method is deprecated and will be removed from pandas in a future version. Use pandas.concat instead.\n",
      "  results = results.append({\n",
      "C:\\Users\\user\\AppData\\Local\\Temp\\ipykernel_7268\\1532759050.py:54: FutureWarning: The frame.append method is deprecated and will be removed from pandas in a future version. Use pandas.concat instead.\n",
      "  results = results.append({\n"
     ]
    }
   ],
   "source": [
    "import pandas as pd\n",
    "\n",
    "# Sample data set\n",
    "data_2024_detailed = {\n",
    "    'Year': [2024, 2024, 2024, 2024, 2024, 2024, 2024, 2024, 2024],\n",
    "    'Region': ['North', 'South', 'East', 'West', 'North', 'South', 'West', 'East', 'North'],\n",
    "    'Exam Center': ['A', 'B', 'C', 'D', 'A', 'B', 'D', 'C', 'A'],\n",
    "    'Type of Scam': ['Paper Leak', 'None', 'None', 'Paper Leak', 'Paper Leak', 'None', 'Paper Leak', 'None', 'Paper Leak'],\n",
    "    'Number of Cases': [10, 0, 0, 12, 7, 0, 15, 0, 8],\n",
    "    'Actions Taken': ['Exams Cancelled', 'None', 'None', 'Exams Cancelled', 'Exams Cancelled', 'None', 'Exams Cancelled', 'None', 'Exams Cancelled'],\n",
    "    'Average Marks': [85, 81, 78, 88, 83, 80, 90, 79, 84],\n",
    "    'Topper Marks': [100, 99, 98, 100, 100, 99, 100, 98, 100],\n",
    "    'Number of Toppers': [10, 8, 5, 12, 9, 7, 14, 5, 11],\n",
    "    'Number of Successful Candidates': [200, 205, 180, 190, 210, 200, 195, 185, 205],\n",
    "    'Number of Perfect Scores': [5, 2, 1, 6, 4, 2, 7, 1, 5]\n",
    "}\n",
    "\n",
    "# Convert the data into a pandas DataFrame\n",
    "df = pd.DataFrame(data_2024_detailed)\n",
    "\n",
    "# List of numerical columns\n",
    "numerical_columns = df.select_dtypes(include=['int64', 'float64']).columns\n",
    "\n",
    "# Create an empty DataFrame to store the results\n",
    "results = pd.DataFrame(columns=['Column', 'Q1 (25th percentile)', 'Q3 (75th percentile)', 'IQR'])\n",
    "\n",
    "# Calculate Q1, Q3, and IQR for each numerical column\n",
    "for column in numerical_columns:\n",
    "    data = df[column].sort_values().reset_index(drop=True)\n",
    "    n = len(data)\n",
    "    \n",
    "    # Calculate Q1\n",
    "    Q1_index = (n + 1) // 4\n",
    "    if (n + 1) % 4 == 0:\n",
    "        Q1 = data[Q1_index - 1]\n",
    "    else:\n",
    "        lower = data[Q1_index - 1]\n",
    "        upper = data[Q1_index]\n",
    "        Q1 = lower + (upper - lower) * (0.25 * (n + 1) % 1)\n",
    "    \n",
    "    # Calculate Q3\n",
    "    Q3_index = 3 * (n + 1) // 4\n",
    "    if 3 * (n + 1) % 4 == 0:\n",
    "        Q3 = data[Q3_index - 1]\n",
    "    else:\n",
    "        lower = data[Q3_index - 1]\n",
    "        upper = data[Q3_index]\n",
    "        Q3 = lower + (upper - lower) * (0.75 * (n + 1) % 1)\n",
    "    \n",
    "    # Calculate IQR\n",
    "    IQR = Q3 - Q1\n",
    "    \n",
    "    # Append the results to the DataFrame\n",
    "    results = results.append({\n",
    "        'Column': column,\n",
    "        'Q1 (25th percentile)': Q1,\n",
    "        'Q3 (75th percentile)': Q3,\n",
    "        'IQR': IQR\n",
    "    }, ignore_index=True)\n",
    "\n",
    "# Print the table\n",
    "print(results)\n"
   ]
  },
  {
   "cell_type": "code",
   "execution_count": null,
   "id": "214c0272",
   "metadata": {},
   "outputs": [],
   "source": [
    "# Detecting the Outliers\n",
    "Q1 = DF_COPY['Number of Cases'].quantile(0.25)\n",
    "Q3 = DF_COPY['Number of Cases'].quantile(0.75)\n",
    "IQR = Q3 - Q1\n",
    "lower_bound = Q1 - 1.5 * IQR\n",
    "upper_bound = Q3 + 1.5 * IQR\n",
    "outliers = DF_COPY[(DF_COPY['Number of Cases'] < lower_bound) | (DF_COPY['Number of Cases'] > upper_bound)]\n",
    "outliers"
   ]
  },
  {
   "cell_type": "markdown",
   "id": "0ef8ee50",
   "metadata": {},
   "source": [
    "<font size = 5.5> **Number of Cases** "
   ]
  },
  {
   "cell_type": "code",
   "execution_count": 26,
   "id": "ab9f344a",
   "metadata": {},
   "outputs": [
    {
     "name": "stdout",
     "output_type": "stream",
     "text": [
      "              Statistic  Value\n",
      "0  Q1 (25th percentile)    0.0\n",
      "1  Q3 (75th percentile)   10.0\n",
      "2                   IQR   10.0\n",
      "Lower bound of Data is: -15.0\n",
      "Upper bound of Data is: 25.0\n"
     ]
    }
   ],
   "source": [
    "import pandas as pd\n",
    "\n",
    "# Sample data set\n",
    "data = [10, 0, 0, 12, 7, 0, 15, 0, 8]\n",
    "\n",
    "# Convert the data into a pandas DataFrame\n",
    "df = pd.DataFrame(data, columns=['Data'])\n",
    "\n",
    "# Calculate Q1 (25th percentile) and Q3 (75th percentile)\n",
    "Q1 = df['Data'].quantile(0.25)\n",
    "Q3 = df['Data'].quantile(0.75)\n",
    "\n",
    "# Calculate the Interquartile Range (IQR)\n",
    "IQR = Q3 - Q1\n",
    "\n",
    "# Create a DataFrame to display the results in a table format\n",
    "results = pd.DataFrame({\n",
    "    'Statistic': ['Q1 (25th percentile)', 'Q3 (75th percentile)', 'IQR'],\n",
    "    'Value': [Q1, Q3, IQR]\n",
    "})\n",
    "\n",
    "# Print the table\n",
    "print(results)\n",
    "lower_bound = Q1 - 1.5 * IQR\n",
    "upper_bound = Q3 + 1.5 * IQR\n",
    "\n",
    "print(\"Lower bound of Data is:\",lower_bound)\n",
    "print(\"Upper bound of Data is:\",upper_bound)"
   ]
  },
  {
   "cell_type": "markdown",
   "id": "043b0a73",
   "metadata": {},
   "source": [
    "<font size = 5.5> **Average Marks**"
   ]
  },
  {
   "cell_type": "code",
   "execution_count": 27,
   "id": "3f085f39",
   "metadata": {},
   "outputs": [
    {
     "name": "stdout",
     "output_type": "stream",
     "text": [
      "              Statistic  Value\n",
      "0  Q1 (25th percentile)   80.0\n",
      "1  Q3 (75th percentile)   85.0\n",
      "2                   IQR    5.0\n",
      "Lower bound of Data is: 72.5\n",
      "Upper bound of Data is: 92.5\n"
     ]
    }
   ],
   "source": [
    "import pandas as pd\n",
    "\n",
    "# Sample data set\n",
    "data = [85, 81, 78, 88, 83, 80, 90, 79, 84]\n",
    "\n",
    "# Convert the data into a pandas DataFrame\n",
    "df = pd.DataFrame(data, columns=['Data'])\n",
    "\n",
    "# Calculate Q1 (25th percentile) and Q3 (75th percentile)\n",
    "Q1 = df['Data'].quantile(0.25)\n",
    "Q3 = df['Data'].quantile(0.75)\n",
    "\n",
    "# Calculate the Interquartile Range (IQR)\n",
    "IQR = Q3 - Q1\n",
    "\n",
    "# Create a DataFrame to display the results in a table format\n",
    "results = pd.DataFrame({\n",
    "    'Statistic': ['Q1 (25th percentile)', 'Q3 (75th percentile)', 'IQR'],\n",
    "    'Value': [Q1, Q3, IQR]\n",
    "})\n",
    "\n",
    "# Print the table\n",
    "print(results)\n",
    "lower_bound = Q1 - 1.5 * IQR\n",
    "upper_bound = Q3 + 1.5 * IQR\n",
    "\n",
    "print(\"Lower bound of Data is:\",lower_bound)\n",
    "print(\"Upper bound of Data is:\",upper_bound)"
   ]
  },
  {
   "cell_type": "markdown",
   "id": "6195a86f",
   "metadata": {},
   "source": [
    "<font size = 5.5> **Topper Marks**"
   ]
  },
  {
   "cell_type": "code",
   "execution_count": 28,
   "id": "5c390a58",
   "metadata": {},
   "outputs": [
    {
     "name": "stdout",
     "output_type": "stream",
     "text": [
      "              Statistic  Value\n",
      "0  Q1 (25th percentile)   99.0\n",
      "1  Q3 (75th percentile)  100.0\n",
      "2                   IQR    1.0\n",
      "Lower bound of Data is: 97.5\n",
      "Upper bound of Data is: 101.5\n"
     ]
    }
   ],
   "source": [
    "import pandas as pd\n",
    "\n",
    "# Sample data set\n",
    "data = [100, 99, 98, 100, 100, 99, 100, 98, 100]\n",
    "\n",
    "# Convert the data into a pandas DataFrame\n",
    "df = pd.DataFrame(data, columns=['Data'])\n",
    "\n",
    "# Calculate Q1 (25th percentile) and Q3 (75th percentile)\n",
    "Q1 = df['Data'].quantile(0.25)\n",
    "Q3 = df['Data'].quantile(0.75)\n",
    "\n",
    "# Calculate the Interquartile Range (IQR)\n",
    "IQR = Q3 - Q1\n",
    "\n",
    "# Create a DataFrame to display the results in a table format\n",
    "results = pd.DataFrame({\n",
    "    'Statistic': ['Q1 (25th percentile)', 'Q3 (75th percentile)', 'IQR'],\n",
    "    'Value': [Q1, Q3, IQR]\n",
    "})\n",
    "\n",
    "# Print the table\n",
    "print(results)\n",
    "lower_bound = Q1 - 1.5 * IQR\n",
    "upper_bound = Q3 + 1.5 * IQR\n",
    "\n",
    "print(\"Lower bound of Data is:\",lower_bound)\n",
    "print(\"Upper bound of Data is:\",upper_bound)"
   ]
  },
  {
   "cell_type": "markdown",
   "id": "1a617761",
   "metadata": {},
   "source": [
    "<font size = 5.5> **Number of Toppers**"
   ]
  },
  {
   "cell_type": "code",
   "execution_count": 29,
   "id": "9e0563c7",
   "metadata": {},
   "outputs": [
    {
     "name": "stdout",
     "output_type": "stream",
     "text": [
      "              Statistic  Value\n",
      "0  Q1 (25th percentile)    7.0\n",
      "1  Q3 (75th percentile)   11.0\n",
      "2                   IQR    4.0\n",
      "Lower bound of Data is: 1.0\n",
      "Upper bound of Data is: 17.0\n"
     ]
    }
   ],
   "source": [
    "import pandas as pd\n",
    "\n",
    "# Sample data set\n",
    "data = [10, 8, 5, 12, 9, 7, 14, 5, 11]\n",
    "\n",
    "# Convert the data into a pandas DataFrame\n",
    "df = pd.DataFrame(data, columns=['Data'])\n",
    "\n",
    "# Calculate Q1 (25th percentile) and Q3 (75th percentile)\n",
    "Q1 = df['Data'].quantile(0.25)\n",
    "Q3 = df['Data'].quantile(0.75)\n",
    "\n",
    "# Calculate the Interquartile Range (IQR)\n",
    "IQR = Q3 - Q1\n",
    "\n",
    "# Create a DataFrame to display the results in a table format\n",
    "results = pd.DataFrame({\n",
    "    'Statistic': ['Q1 (25th percentile)', 'Q3 (75th percentile)', 'IQR'],\n",
    "    'Value': [Q1, Q3, IQR]\n",
    "})\n",
    "\n",
    "# Print the table\n",
    "print(results)\n",
    "lower_bound = Q1 - 1.5 * IQR\n",
    "upper_bound = Q3 + 1.5 * IQR\n",
    "\n",
    "print(\"Lower bound of Data is:\",lower_bound)\n",
    "print(\"Upper bound of Data is:\",upper_bound)"
   ]
  },
  {
   "cell_type": "markdown",
   "id": "1e656c39",
   "metadata": {},
   "source": [
    "<Font size = 5.5>**Number of Successful Candidates**"
   ]
  },
  {
   "cell_type": "code",
   "execution_count": 30,
   "id": "0f7d5642",
   "metadata": {},
   "outputs": [
    {
     "name": "stdout",
     "output_type": "stream",
     "text": [
      "              Statistic  Value\n",
      "0  Q1 (25th percentile)  190.0\n",
      "1  Q3 (75th percentile)  205.0\n",
      "2                   IQR   15.0\n",
      "Lower bound of Data is: 167.5\n",
      "Upper bound of Data is: 227.5\n"
     ]
    }
   ],
   "source": [
    "import pandas as pd\n",
    "\n",
    "# Sample data set\n",
    "data = [200, 205, 180, 190, 210, 200, 195, 185, 205]\n",
    "\n",
    "# Convert the data into a pandas DataFrame\n",
    "df = pd.DataFrame(data, columns=['Data'])\n",
    "\n",
    "# Calculate Q1 (25th percentile) and Q3 (75th percentile)\n",
    "Q1 = df['Data'].quantile(0.25)\n",
    "Q3 = df['Data'].quantile(0.75)\n",
    "\n",
    "# Calculate the Interquartile Range (IQR)\n",
    "IQR = Q3 - Q1\n",
    "\n",
    "# Create a DataFrame to display the results in a table format\n",
    "results = pd.DataFrame({\n",
    "    'Statistic': ['Q1 (25th percentile)', 'Q3 (75th percentile)', 'IQR'],\n",
    "    'Value': [Q1, Q3, IQR]\n",
    "})\n",
    "\n",
    "# Print the table\n",
    "print(results)\n",
    "lower_bound = Q1 - 1.5 * IQR\n",
    "upper_bound = Q3 + 1.5 * IQR\n",
    "\n",
    "print(\"Lower bound of Data is:\",lower_bound)\n",
    "print(\"Upper bound of Data is:\",upper_bound)"
   ]
  },
  {
   "cell_type": "markdown",
   "id": "82719d76",
   "metadata": {},
   "source": [
    "<font size = 5.5>**Number of Perfect Scores** "
   ]
  },
  {
   "cell_type": "code",
   "execution_count": 31,
   "id": "c25eeb12",
   "metadata": {},
   "outputs": [
    {
     "name": "stdout",
     "output_type": "stream",
     "text": [
      "              Statistic  Value\n",
      "0  Q1 (25th percentile)    2.0\n",
      "1  Q3 (75th percentile)    5.0\n",
      "2                   IQR    3.0\n",
      "Lower bound of Data is: -2.5\n",
      "Upper bound of Data is: 9.5\n"
     ]
    }
   ],
   "source": [
    "import pandas as pd\n",
    "\n",
    "# Sample data set\n",
    "data = [5, 2, 1, 6, 4, 2, 7, 1, 5]\n",
    "\n",
    "# Convert the data into a pandas DataFrame\n",
    "df = pd.DataFrame(data, columns=['Data'])\n",
    "\n",
    "# Calculate Q1 (25th percentile) and Q3 (75th percentile)\n",
    "Q1 = df['Data'].quantile(0.25)\n",
    "Q3 = df['Data'].quantile(0.75)\n",
    "\n",
    "# Calculate the Interquartile Range (IQR)\n",
    "IQR = Q3 - Q1\n",
    "\n",
    "# Create a DataFrame to display the results in a table format\n",
    "results = pd.DataFrame({\n",
    "    'Statistic': ['Q1 (25th percentile)', 'Q3 (75th percentile)', 'IQR'],\n",
    "    'Value': [Q1, Q3, IQR]\n",
    "})\n",
    "\n",
    "# Print the table\n",
    "print(results)\n",
    "lower_bound = Q1 - 1.5 * IQR\n",
    "upper_bound = Q3 + 1.5 * IQR\n",
    "\n",
    "print(\"Lower bound of Data is:\",lower_bound)\n",
    "print(\"Upper bound of Data is:\",upper_bound)"
   ]
  },
  {
   "cell_type": "code",
   "execution_count": null,
   "id": "977f855a",
   "metadata": {},
   "outputs": [],
   "source": []
  },
  {
   "cell_type": "code",
   "execution_count": null,
   "id": "4143894f",
   "metadata": {},
   "outputs": [],
   "source": []
  },
  {
   "cell_type": "code",
   "execution_count": null,
   "id": "85c15cec",
   "metadata": {},
   "outputs": [],
   "source": []
  },
  {
   "cell_type": "code",
   "execution_count": null,
   "id": "dfcab1ff",
   "metadata": {},
   "outputs": [],
   "source": []
  },
  {
   "cell_type": "code",
   "execution_count": null,
   "id": "2871e0ab",
   "metadata": {},
   "outputs": [],
   "source": []
  },
  {
   "cell_type": "code",
   "execution_count": null,
   "id": "05f8108a",
   "metadata": {},
   "outputs": [],
   "source": []
  }
 ],
 "metadata": {
  "kernelspec": {
   "display_name": "Python 3 (ipykernel)",
   "language": "python",
   "name": "python3"
  },
  "language_info": {
   "codemirror_mode": {
    "name": "ipython",
    "version": 3
   },
   "file_extension": ".py",
   "mimetype": "text/x-python",
   "name": "python",
   "nbconvert_exporter": "python",
   "pygments_lexer": "ipython3",
   "version": "3.10.9"
  }
 },
 "nbformat": 4,
 "nbformat_minor": 5
}
