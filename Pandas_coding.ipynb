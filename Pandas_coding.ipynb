{
 "cells": [
  {
   "cell_type": "code",
   "execution_count": 1,
   "id": "cc52b096",
   "metadata": {},
   "outputs": [
    {
     "name": "stdout",
     "output_type": "stream",
     "text": [
      "5\n"
     ]
    }
   ],
   "source": [
    "import pandas as pd\n",
    "\n",
    "# Create a sample data set\n",
    "data = {'col1': [1,2,3,4,5], 'col2': ['a','b','a','c','a']}\n",
    "df = pd.DataFrame(data)\n",
    "\n",
    "# Count the number of rows in 'col1'\n",
    "count = df['col1'].count()\n",
    "\n",
    "# Print the count\n",
    "print(count)"
   ]
  },
  {
   "cell_type": "code",
   "execution_count": null,
   "id": "49731f3d",
   "metadata": {},
   "outputs": [],
   "source": []
  },
  {
   "cell_type": "markdown",
   "id": "21d0066c",
   "metadata": {},
   "source": [
    "## an example using .dropna().count():"
   ]
  },
  {
   "cell_type": "code",
   "execution_count": 4,
   "id": "d7c7450c",
   "metadata": {},
   "outputs": [
    {
     "name": "stdout",
     "output_type": "stream",
     "text": [
      "4\n"
     ]
    }
   ],
   "source": [
    "import pandas as pd\n",
    "\n",
    "# Create a sample data set with a missing value\n",
    "data = {'col1': [1,2,3,4,None], 'col2': ['a','b','a','c','a']}\n",
    "df = pd.DataFrame(data)\n",
    "\n",
    "# Count the number of non-empty rows in 'col1'\n",
    "count = df['col1'].dropna().count()\n",
    "\n",
    "# Print the count\n",
    "print(count)"
   ]
  },
  {
   "cell_type": "markdown",
   "id": "e7e9f988",
   "metadata": {},
   "source": [
    "## In above case:  \n",
    "### - .dropna() to remove the row with the missing value before applying .count().\n",
    "### - There are other ways to handle missing data in pandas, such as using .fillna() to fill empty values with a placeholder value."
   ]
  },
  {
   "cell_type": "code",
   "execution_count": null,
   "id": "32b76be8",
   "metadata": {},
   "outputs": [],
   "source": []
  },
  {
   "cell_type": "code",
   "execution_count": null,
   "id": "88ea2bb5",
   "metadata": {},
   "outputs": [],
   "source": []
  }
 ],
 "metadata": {
  "kernelspec": {
   "display_name": "Python 3 (ipykernel)",
   "language": "python",
   "name": "python3"
  },
  "language_info": {
   "codemirror_mode": {
    "name": "ipython",
    "version": 3
   },
   "file_extension": ".py",
   "mimetype": "text/x-python",
   "name": "python",
   "nbconvert_exporter": "python",
   "pygments_lexer": "ipython3",
   "version": "3.10.9"
  }
 },
 "nbformat": 4,
 "nbformat_minor": 5
}
