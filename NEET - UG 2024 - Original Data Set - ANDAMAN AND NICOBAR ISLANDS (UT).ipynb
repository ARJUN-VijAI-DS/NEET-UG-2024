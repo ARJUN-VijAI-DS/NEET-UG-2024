{
 "cells": [
  {
   "cell_type": "code",
   "execution_count": 1,
   "id": "e67fd306",
   "metadata": {},
   "outputs": [],
   "source": [
    "# importing libraries\n",
    "import pandas as pd                  # Preparing high-level data sets, etc.\n",
    "import numpy as np                   # library for multi-dimensional array, matrix processing, etc.\n",
    "import matplotlib.pyplot as plt      # Visualization Library\n",
    "import seaborn as sns                # Visualization Library \n",
    "%matplotlib inline\n"
   ]
  },
  {
   "cell_type": "code",
   "execution_count": 2,
   "id": "fc0da9c8",
   "metadata": {},
   "outputs": [
    {
     "data": {
      "text/html": [
       "<div>\n",
       "<style scoped>\n",
       "    .dataframe tbody tr th:only-of-type {\n",
       "        vertical-align: middle;\n",
       "    }\n",
       "\n",
       "    .dataframe tbody tr th {\n",
       "        vertical-align: top;\n",
       "    }\n",
       "\n",
       "    .dataframe thead th {\n",
       "        text-align: right;\n",
       "    }\n",
       "</style>\n",
       "<table border=\"1\" class=\"dataframe\">\n",
       "  <thead>\n",
       "    <tr style=\"text-align: right;\">\n",
       "      <th></th>\n",
       "      <th>marks</th>\n",
       "      <th>state</th>\n",
       "      <th>city</th>\n",
       "      <th>center_name</th>\n",
       "      <th>center_number</th>\n",
       "    </tr>\n",
       "  </thead>\n",
       "  <tbody>\n",
       "    <tr>\n",
       "      <th>0</th>\n",
       "      <td>46</td>\n",
       "      <td>ANDAMAN AND NICOBAR ISLANDS (UT)</td>\n",
       "      <td>PORT BLAIR</td>\n",
       "      <td>KENDRIYA VIDYALAYA NO. 1</td>\n",
       "      <td>110101</td>\n",
       "    </tr>\n",
       "    <tr>\n",
       "      <th>1</th>\n",
       "      <td>226</td>\n",
       "      <td>ANDAMAN AND NICOBAR ISLANDS (UT)</td>\n",
       "      <td>PORT BLAIR</td>\n",
       "      <td>KENDRIYA VIDYALAYA NO. 1</td>\n",
       "      <td>110101</td>\n",
       "    </tr>\n",
       "    <tr>\n",
       "      <th>2</th>\n",
       "      <td>449</td>\n",
       "      <td>ANDAMAN AND NICOBAR ISLANDS (UT)</td>\n",
       "      <td>PORT BLAIR</td>\n",
       "      <td>KENDRIYA VIDYALAYA NO. 1</td>\n",
       "      <td>110101</td>\n",
       "    </tr>\n",
       "    <tr>\n",
       "      <th>3</th>\n",
       "      <td>424</td>\n",
       "      <td>ANDAMAN AND NICOBAR ISLANDS (UT)</td>\n",
       "      <td>PORT BLAIR</td>\n",
       "      <td>KENDRIYA VIDYALAYA NO. 1</td>\n",
       "      <td>110101</td>\n",
       "    </tr>\n",
       "    <tr>\n",
       "      <th>4</th>\n",
       "      <td>222</td>\n",
       "      <td>ANDAMAN AND NICOBAR ISLANDS (UT)</td>\n",
       "      <td>PORT BLAIR</td>\n",
       "      <td>KENDRIYA VIDYALAYA NO. 1</td>\n",
       "      <td>110101</td>\n",
       "    </tr>\n",
       "  </tbody>\n",
       "</table>\n",
       "</div>"
      ],
      "text/plain": [
       "   marks                             state        city  \\\n",
       "0     46  ANDAMAN AND NICOBAR ISLANDS (UT)  PORT BLAIR   \n",
       "1    226  ANDAMAN AND NICOBAR ISLANDS (UT)  PORT BLAIR   \n",
       "2    449  ANDAMAN AND NICOBAR ISLANDS (UT)  PORT BLAIR   \n",
       "3    424  ANDAMAN AND NICOBAR ISLANDS (UT)  PORT BLAIR   \n",
       "4    222  ANDAMAN AND NICOBAR ISLANDS (UT)  PORT BLAIR   \n",
       "\n",
       "                center_name  center_number  \n",
       "0  KENDRIYA VIDYALAYA NO. 1         110101  \n",
       "1  KENDRIYA VIDYALAYA NO. 1         110101  \n",
       "2  KENDRIYA VIDYALAYA NO. 1         110101  \n",
       "3  KENDRIYA VIDYALAYA NO. 1         110101  \n",
       "4  KENDRIYA VIDYALAYA NO. 1         110101  "
      ]
     },
     "execution_count": 2,
     "metadata": {},
     "output_type": "execute_result"
    }
   ],
   "source": [
    "df = pd.read_csv('C:\\\\Users\\\\user\\\\Desktop\\\\NEET DATA_ Analysis\\\\ANDAMAN AND NICOBAR ISLANDS (UT) NEET UG 2024.csv')\n",
    "df.head()"
   ]
  },
  {
   "cell_type": "code",
   "execution_count": 3,
   "id": "6ecd83e7",
   "metadata": {},
   "outputs": [
    {
     "data": {
      "text/plain": [
       "(1025, 5)"
      ]
     },
     "execution_count": 3,
     "metadata": {},
     "output_type": "execute_result"
    }
   ],
   "source": [
    "df.shape"
   ]
  },
  {
   "cell_type": "code",
   "execution_count": null,
   "id": "175e13fe",
   "metadata": {},
   "outputs": [],
   "source": []
  }
 ],
 "metadata": {
  "kernelspec": {
   "display_name": "Python 3 (ipykernel)",
   "language": "python",
   "name": "python3"
  },
  "language_info": {
   "codemirror_mode": {
    "name": "ipython",
    "version": 3
   },
   "file_extension": ".py",
   "mimetype": "text/x-python",
   "name": "python",
   "nbconvert_exporter": "python",
   "pygments_lexer": "ipython3",
   "version": "3.10.9"
  }
 },
 "nbformat": 4,
 "nbformat_minor": 5
}
